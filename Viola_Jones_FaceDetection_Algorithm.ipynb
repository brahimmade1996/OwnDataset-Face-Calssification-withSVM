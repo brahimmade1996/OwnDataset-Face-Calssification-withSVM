{
 "cells": [
  {
   "cell_type": "code",
   "execution_count": null,
   "metadata": {},
   "outputs": [],
   "source": [
    "# plot photo with detected faces using opencv cascade classifier\n",
    "import cv2\n",
    "import os\n",
    "from cv2 import imread\n",
    "from cv2 import imshow\n",
    "from cv2 import waitKey\n",
    "from cv2 import destroyAllWindows\n",
    "from cv2 import CascadeClassifier\n",
    "from cv2 import rectangle\n",
    "import sys\n",
    "\n",
    "# load the pre-trained model\n",
    "classifier = CascadeClassifier('adaboost_cascade.txt')\n",
    "\n",
    "def detect_faces(pixels):\n",
    "    # perform face detection\n",
    "    bboxes = classifier.detectMultiScale(pixels, 1.15 , 5)  #parameters: increase in scale before detection , minNeighbors : determines how robust each detection must be in order to be reported, e.g. the number of candidate rectangles that found the face\n",
    "    # print bounding box for each detected face\n",
    "    for box in bboxes:\n",
    "        # extract\n",
    "        x, y, width, height = box\n",
    "        x2, y2 = x + width, y + height\n",
    "        # draw a rectangle over the pixels\n",
    "        rectangle(pixels, (x, y), (x2, y2), (0,0,255), 1)\n",
    "        #extract_face(x,y,x2,y2) #you can extract the faces also\n",
    "        # show the image\n",
    "    imshow('face detection',pixels)\n",
    "    # keep the window open until we press a key\n",
    "    waitKey(1)\n",
    "    # close the window\n",
    "    #destroyAllWindows()\n",
    "\n",
    "\n",
    "# 1.load the photograph\n",
    "#path = \"./Will\"\n",
    "#for files in os.listdir(path):\n",
    "#    print(files)\n",
    "#    pixels = imread(path+\"/\"+files)\n",
    "#    detect_faces(pixels)\n",
    "####################\n",
    "\n",
    "# 2. Or enable live feed face detection\n",
    "video_capture = cv2.VideoCapture(0)\n",
    "while True:\n",
    "    ret, frame = video_capture.read()\n",
    "    gray = cv2.cvtColor(frame, cv2.CV_8U)\n",
    "    detect_faces(gray)\n",
    "    if cv2.waitKey(1) & 0xFF == ord('p'):\n",
    "        break\n",
    "video_capture.release() # When everything is done, release the capture\n",
    "cv2.destroyAllWindows() #and destroy all windows\n",
    "\n",
    "####################"
   ]
  },
  {
   "cell_type": "code",
   "execution_count": 23,
   "metadata": {},
   "outputs": [],
   "source": [
    "#Extract faces\n",
    "def extract_face(x_start, y_start , x_end, y_end):\n",
    "    face = pixels[y_start:y_end , x_start:x_end]\n",
    "    imshow(\"hey\", face)\n",
    "    #face_array = asarray(image)\n",
    "    #return face_array"
   ]
  },
  {
   "cell_type": "code",
   "execution_count": null,
   "metadata": {},
   "outputs": [],
   "source": []
  }
 ],
 "metadata": {
  "kernelspec": {
   "display_name": "TensorFlow-GPU",
   "language": "python",
   "name": "tf-gpu"
  },
  "language_info": {
   "codemirror_mode": {
    "name": "ipython",
    "version": 3
   },
   "file_extension": ".py",
   "mimetype": "text/x-python",
   "name": "python",
   "nbconvert_exporter": "python",
   "pygments_lexer": "ipython3",
   "version": "3.7.6"
  }
 },
 "nbformat": 4,
 "nbformat_minor": 4
}
